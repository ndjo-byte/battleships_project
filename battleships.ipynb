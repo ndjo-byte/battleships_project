{
 "cells": [
  {
   "cell_type": "code",
   "execution_count": 2,
   "metadata": {},
   "outputs": [],
   "source": [
    "import numpy as np"
   ]
  },
  {
   "cell_type": "code",
   "execution_count": 3,
   "metadata": {},
   "outputs": [],
   "source": [
    "import random"
   ]
  },
  {
   "cell_type": "code",
   "execution_count": 4,
   "metadata": {},
   "outputs": [
    {
     "name": "stdout",
     "output_type": "stream",
     "text": [
      "[['·' '·' '·' '·' '·' '·' '·' '·' '·' '·']\n",
      " ['·' '·' '·' '·' '·' '·' '·' '·' '·' '·']\n",
      " ['·' '·' '·' '·' '·' '·' '·' '·' '·' '·']\n",
      " ['·' '·' '·' '·' '·' '·' '·' '·' '·' '·']\n",
      " ['·' '·' '·' '·' '·' '·' '·' '·' '·' '·']\n",
      " ['·' '·' '·' '·' '·' '·' '·' '·' '·' '·']\n",
      " ['·' '·' '·' '·' '·' '·' '·' '·' '·' '·']\n",
      " ['·' '·' '·' '·' '·' '·' '·' '·' '·' '·']\n",
      " ['·' '·' '·' '·' '·' '·' '·' '·' '·' '·']\n",
      " ['·' '·' '·' '·' '·' '·' '·' '·' '·' '·']]\n"
     ]
    }
   ],
   "source": [
    "def create_table(size):\n",
    "    table = np.full((size,size), \"·\")\n",
    "    return table\n",
    "\n",
    "print(create_table(10))"
   ]
  },
  {
   "cell_type": "code",
   "execution_count": 5,
   "metadata": {},
   "outputs": [],
   "source": [
    "user_table_test = create_table(10)\n",
    "machine_table_test = create_table(10)"
   ]
  },
  {
   "cell_type": "code",
   "execution_count": 6,
   "metadata": {},
   "outputs": [],
   "source": [
    "def create_battleship(longitude):\n",
    "    position_0 = (random.randint(0,5), random.randint(0,5))\n",
    "    orientation = (random.choice([\"Vertical\", \"Horizontal\"]))\n",
    "\n",
    "    battleship = [position_0]\n",
    "    position = position_0\n",
    "    while len(battleship) < longitude:\n",
    "        if orientation == \"Vertical\":\n",
    "            position = (position[0]+1, position[1])\n",
    "            battleship.append(position) # Vertical\n",
    "        else:\n",
    "            position = (position[0], position[1]+1)\n",
    "            battleship.append(position) # Horizontal\n",
    "\n",
    "    return battleship"
   ]
  },
  {
   "cell_type": "code",
   "execution_count": 7,
   "metadata": {},
   "outputs": [
    {
     "name": "stdout",
     "output_type": "stream",
     "text": [
      "[(0, 2), (0, 3), (0, 4), (0, 5)]\n",
      "[(3, 3), (4, 3), (5, 3), (6, 3)]\n"
     ]
    }
   ],
   "source": [
    "ship_1 = create_battleship(4)\n",
    "print(ship_1)\n",
    "ship_2 = create_battleship(4)\n",
    "print(ship_2)"
   ]
  },
  {
   "cell_type": "code",
   "execution_count": 8,
   "metadata": {},
   "outputs": [
    {
     "name": "stdout",
     "output_type": "stream",
     "text": [
      "(0, 2)\n",
      "(0, 3)\n",
      "(0, 4)\n",
      "(0, 5)\n",
      "(3, 3)\n",
      "(4, 3)\n",
      "(5, 3)\n",
      "(6, 3)\n",
      "[['·' '·' '#' '#' '#' '#' '·' '·' '·' '·']\n",
      " ['·' '·' '·' '·' '·' '·' '·' '·' '·' '·']\n",
      " ['·' '·' '·' '·' '·' '·' '·' '·' '·' '·']\n",
      " ['·' '·' '·' '#' '·' '·' '·' '·' '·' '·']\n",
      " ['·' '·' '·' '#' '·' '·' '·' '·' '·' '·']\n",
      " ['·' '·' '·' '#' '·' '·' '·' '·' '·' '·']\n",
      " ['·' '·' '·' '#' '·' '·' '·' '·' '·' '·']\n",
      " ['·' '·' '·' '·' '·' '·' '·' '·' '·' '·']\n",
      " ['·' '·' '·' '·' '·' '·' '·' '·' '·' '·']\n",
      " ['·' '·' '·' '·' '·' '·' '·' '·' '·' '·']]\n"
     ]
    }
   ],
   "source": [
    "def place_battleship(battleship, table):\n",
    "    for position in battleship:\n",
    "        print(position)\n",
    "        table[position] = \"#\"\n",
    "    return table\n",
    "\n",
    "user_table_test = place_battleship(ship_1, user_table_test)\n",
    "user_table_test = place_battleship(ship_2, user_table_test)\n",
    "\n",
    "print(user_table_test)\n"
   ]
  },
  {
   "cell_type": "code",
   "execution_count": 9,
   "metadata": {},
   "outputs": [],
   "source": [
    "def fire(position, table):\n",
    "    if table[position] == \"#\":\n",
    "        print(\"Direct hit!\")\n",
    "        table[position] = \"X\"\n",
    "    else:\n",
    "        print(\"Miss!\")\n",
    "        table[position] = \"O\"\n",
    "    return table"
   ]
  },
  {
   "cell_type": "code",
   "execution_count": 10,
   "metadata": {},
   "outputs": [
    {
     "name": "stdout",
     "output_type": "stream",
     "text": [
      "Miss!\n",
      "[['·' '·' '#' '#' '#' '#' '·' '·' '·' '·']\n",
      " ['·' '·' '·' '·' '·' '·' '·' '·' '·' '·']\n",
      " ['·' '·' '·' 'O' '·' '·' '·' '·' '·' '·']\n",
      " ['·' '·' '·' '#' '·' '·' '·' '·' '·' '·']\n",
      " ['·' '·' '·' '#' '·' '·' '·' '·' '·' '·']\n",
      " ['·' '·' '·' '#' '·' '·' '·' '·' '·' '·']\n",
      " ['·' '·' '·' '#' '·' '·' '·' '·' '·' '·']\n",
      " ['·' '·' '·' '·' '·' '·' '·' '·' '·' '·']\n",
      " ['·' '·' '·' '·' '·' '·' '·' '·' '·' '·']\n",
      " ['·' '·' '·' '·' '·' '·' '·' '·' '·' '·']]\n",
      "Miss!\n",
      "[['·' '·' '#' '#' '#' '#' '·' '·' '·' '·']\n",
      " ['·' '·' '·' 'O' '·' '·' '·' '·' '·' '·']\n",
      " ['·' '·' '·' 'O' '·' '·' '·' '·' '·' '·']\n",
      " ['·' '·' '·' '#' '·' '·' '·' '·' '·' '·']\n",
      " ['·' '·' '·' '#' '·' '·' '·' '·' '·' '·']\n",
      " ['·' '·' '·' '#' '·' '·' '·' '·' '·' '·']\n",
      " ['·' '·' '·' '#' '·' '·' '·' '·' '·' '·']\n",
      " ['·' '·' '·' '·' '·' '·' '·' '·' '·' '·']\n",
      " ['·' '·' '·' '·' '·' '·' '·' '·' '·' '·']\n",
      " ['·' '·' '·' '·' '·' '·' '·' '·' '·' '·']]\n"
     ]
    }
   ],
   "source": [
    "user_table_test = fire((2,3), user_table_test)\n",
    "print(user_table_test)\n",
    "user_table_test = fire((1,3), user_table_test)\n",
    "print(user_table_test)"
   ]
  },
  {
   "cell_type": "code",
   "execution_count": 39,
   "metadata": {},
   "outputs": [],
   "source": [
    "user_table2_test = create_table(10)\n",
    "\n",
    "\n",
    "def plot_fleet_positions(table):\n",
    "\n",
    "    list_coordindates = [create_battleship(4), create_battleship(3), create_battleship(3), create_battleship(2), create_battleship(2), create_battleship(2)]\n",
    "\n",
    "    for ships in list_coordindates:\n",
    "        for y, x in ships:\n",
    "            if table[x,y] == '#':\n",
    "                return plot_fleet_positions(table)\n",
    "            else:\n",
    "                return list_coordindates\n",
    "\n",
    "user_fleet_test = plot_fleet_positions(user_table2_test)\n",
    "\n"
   ]
  },
  {
   "cell_type": "code",
   "execution_count": 12,
   "metadata": {},
   "outputs": [
    {
     "name": "stdout",
     "output_type": "stream",
     "text": [
      "[['·' '#' '·' '·' '·' '·' '·' '·' '·' '·']\n",
      " ['·' '#' '·' '·' '·' '·' '·' '·' '·' '·']\n",
      " ['·' '#' '·' '·' '·' '·' '·' '·' '·' '·']\n",
      " ['·' '#' '·' '#' '#' '·' '·' '·' '·' '·']\n",
      " ['·' '#' '·' '·' '·' '#' '·' '·' '·' '·']\n",
      " ['·' '#' '·' '·' '·' '#' '#' '·' '·' '·']\n",
      " ['·' '#' '·' '·' '·' '·' '·' '·' '·' '·']\n",
      " ['·' '·' '·' '·' '·' '·' '·' '·' '·' '·']\n",
      " ['·' '·' '·' '·' '·' '·' '·' '·' '·' '·']\n",
      " ['·' '·' '·' '·' '·' '·' '·' '·' '·' '·']]\n"
     ]
    }
   ],
   "source": [
    "def place_fleet(fleet, table):\n",
    "\n",
    "    for ship in fleet:\n",
    "        for coordinate in ship:\n",
    "            table[coordinate] = '#'\n",
    "    return table \n",
    "\n",
    "user_table2_test = place_fleet(user_fleet_test, user_table2_test)\n",
    "print(user_table2_test)"
   ]
  },
  {
   "cell_type": "code",
   "execution_count": 13,
   "metadata": {},
   "outputs": [],
   "source": [
    "enemy_table = create_table(10)\n",
    "enemy_fleet = plot_fleet_positions(enemy_table)"
   ]
  },
  {
   "cell_type": "code",
   "execution_count": 110,
   "metadata": {},
   "outputs": [],
   "source": [
    "# making function to make input cleaner\n",
    "def user_shot():\n",
    "    shot = input('Write longitude and latitude separated by comma, no spaces').split(',')\n",
    "    shot = tuple(map(int, shot))\n",
    "    return shot"
   ]
  },
  {
   "cell_type": "code",
   "execution_count": 107,
   "metadata": {},
   "outputs": [
    {
     "name": "stdout",
     "output_type": "stream",
     "text": [
      "(5, 1)\n"
     ]
    }
   ],
   "source": [
    "user_shot_output = user_shot()\n",
    "print(user_shot_output)"
   ]
  },
  {
   "cell_type": "code",
   "execution_count": 138,
   "metadata": {},
   "outputs": [
    {
     "name": "stdout",
     "output_type": "stream",
     "text": [
      "(2, 5)\n",
      "[(2, 5), (3, 5), (4, 5), (5, 5)]\n",
      "Direct hit!\n",
      "[['·' '·' '·' '·' '·' '·' '·' '·' '·' '·']\n",
      " ['·' '·' '·' '·' '·' '·' '·' '·' '·' '·']\n",
      " ['·' '·' '·' '·' '·' 'X' '·' '·' '·' '·']\n",
      " ['·' '·' '·' '·' '·' '·' '·' '·' '·' '·']\n",
      " ['·' '·' '·' '·' '·' '·' '·' '·' '·' '·']\n",
      " ['·' '0' '·' '·' '·' '·' '·' '·' '·' '·']\n",
      " ['·' '·' '·' '·' '·' '·' '·' '·' '·' '·']\n",
      " ['·' '·' '·' '·' '·' '·' '·' '·' '·' '·']\n",
      " ['·' '·' '·' '·' '·' '·' '·' '·' '·' '·']\n",
      " ['·' '·' '·' '·' '·' '·' '·' '·' '·' '·']]\n"
     ]
    },
    {
     "data": {
      "text/plain": [
       "'\\ndef fire(position, table):\\n    if table[position] == \"#\":\\n        print(\"Direct hit!\")\\n        table[position] = \"X\"\\n    else:\\n        print(\"Miss!\")\\n        table[position] = \"O\"\\n    return table\\n'"
      ]
     },
     "execution_count": 138,
     "metadata": {},
     "output_type": "execute_result"
    }
   ],
   "source": [
    "#INITIAL shooting and hitting mechanism.\n",
    "user_shot_output = user_shot()\n",
    "print(user_shot_output)\n",
    "\n",
    "hit = False\n",
    "for ship in enemy_fleet:\n",
    "        print(ship)\n",
    "        \n",
    "        if user_shot_output in ship:\n",
    "            print('Direct hit!')\n",
    "            enemy_table[user_shot_output] = 'X'\n",
    "            print(enemy_table)\n",
    "            ship.remove(user_shot_output)\n",
    "            \n",
    "            if len(ship) == 0:\n",
    "                  print('Enemey ship destroyed!')\n",
    "                  print(ship)\n",
    "            hit = True\n",
    "            break\n",
    "\n",
    "if not hit:\n",
    "    print('miss')\n",
    "    enemy_table[user_shot_output] = '0'\n",
    "    print(enemy_table)"
   ]
  },
  {
   "cell_type": "code",
   "execution_count": 97,
   "metadata": {},
   "outputs": [],
   "source": [
    "#making a function of it\n",
    "\n",
    "user_shot = input('Write longitude and latitude separated by comma, no spaces').split(',')\n",
    "user_shot = tuple(map(int, user_shot))"
   ]
  },
  {
   "cell_type": "code",
   "execution_count": 134,
   "metadata": {},
   "outputs": [],
   "source": [
    "def user_firing_mechanism(position, fleet, map):\n",
    "    print(position)\n",
    "    hit = False\n",
    "    for ship in fleet:\n",
    "            print(ship)\n",
    "            \n",
    "            if position in ship:\n",
    "                print('Direct hit!')\n",
    "                ship.remove(position)\n",
    "                map[position] = 'X'\n",
    "                print(map)\n",
    "\n",
    "                if len(ship) == 0:\n",
    "                    print('Enemey ship destroyed!')\n",
    "                print(ship)\n",
    "                hit = True\n",
    "                break \n",
    "            \n",
    "    if not hit:\n",
    "        print('Miss')\n",
    "        map[position] = '0'\n",
    "        print(map)\n",
    "    \n",
    "    return hit "
   ]
  },
  {
   "cell_type": "code",
   "execution_count": 99,
   "metadata": {},
   "outputs": [
    {
     "name": "stdout",
     "output_type": "stream",
     "text": [
      "(5, 1)\n",
      "[(2, 0), (2, 1), (2, 2), (2, 3)]\n",
      "[(2, 1), (2, 2), (2, 3)]\n",
      "[(1, 3), (2, 3), (3, 3)]\n",
      "[(2, 0), (3, 0)]\n",
      "[(0, 5), (1, 5)]\n",
      "[(4, 0), (4, 1)]\n",
      "Miss\n",
      "[['·' '·' '·' '·' '·' '·' '·' '·' '·' '·']\n",
      " ['·' '·' '·' '·' '·' '·' '·' '·' '·' '·']\n",
      " ['·' '·' '·' '·' '·' '·' '·' '·' '·' '·']\n",
      " ['·' '·' '·' '·' '·' '·' '·' '·' '·' '·']\n",
      " ['·' '·' '·' '·' '·' '·' '·' '·' '·' '·']\n",
      " ['·' '0' '·' '·' '·' '·' '·' '·' '·' '·']\n",
      " ['·' '·' '·' '·' '·' '·' '·' '·' '·' '·']\n",
      " ['·' '·' '·' '·' '·' '·' '·' '·' '·' '·']\n",
      " ['·' '·' '·' '·' '·' '·' '·' '·' '·' '·']\n",
      " ['·' '·' '·' '·' '·' '·' '·' '·' '·' '·']]\n"
     ]
    }
   ],
   "source": [
    "user_shot = input('Write longitude and latitude separated by comma, no spaces').split(',')\n",
    "user_shot = tuple(map(int, user_shot))\n",
    "user_firing_mechanism(user_shot, enemy_fleet, enemy_table)"
   ]
  },
  {
   "cell_type": "code",
   "execution_count": null,
   "metadata": {},
   "outputs": [],
   "source": [
    "# updated in function mechanism to repeat when hit\n",
    "\n",
    "user_shot = input('Write longitude and latitude separated by comma, no spaces').split(',')\n",
    "user_shot = tuple(map(int, user_shot))\n",
    "print(user_shot)\n",
    "\n",
    "def user_firing_mechanism(position, fleet, map):\n",
    "    print(position)\n",
    "    hit = False\n",
    "    for ship in fleet:\n",
    "            print(ship)\n",
    "            \n",
    "            if position in ship:\n",
    "                print('Direct hit!')\n",
    "                ship.remove(position)\n",
    "                map[position] = 'X'\n",
    "                print(map)\n",
    "\n",
    "                if len(ship) == 0:\n",
    "                    print('Enemey ship destroyed!')\n",
    "                print(ship)\n",
    "                hit = True\n",
    "                break \n",
    "            \n",
    "    if not hit:\n",
    "        print('Miss')\n",
    "        map[position] = '0'\n",
    "        print(map)\n",
    "    \n",
    "    "
   ]
  },
  {
   "cell_type": "code",
   "execution_count": 144,
   "metadata": {},
   "outputs": [
    {
     "name": "stdout",
     "output_type": "stream",
     "text": [
      "(5, 5)\n",
      "[(5, 5)]\n",
      "Direct hit!\n",
      "[['·' '·' '·' '·' '·' '·' '·' '·' '·' '·']\n",
      " ['·' '·' '·' '·' '·' '·' '·' '·' '·' '·']\n",
      " ['·' '·' '·' '·' '·' 'X' '·' '·' '·' '·']\n",
      " ['·' '·' '·' '·' '·' 'X' '·' '·' '·' '·']\n",
      " ['0' '·' '·' '·' '·' 'X' '·' '·' '·' '·']\n",
      " ['·' '0' '·' '·' '0' 'X' '·' '·' '·' '·']\n",
      " ['·' '·' '·' '·' '·' '·' '·' '·' '·' '·']\n",
      " ['·' '·' '·' '·' '·' '·' '·' '·' '·' '·']\n",
      " ['·' '·' '·' '·' '·' '·' '·' '·' '·' '·']\n",
      " ['·' '·' '·' '·' '·' '·' '·' '·' '·' '·']]\n",
      "Enemey ship destroyed!\n",
      "[]\n"
     ]
    }
   ],
   "source": [
    "user_shot = input('Write longitude and latitude separated by comma, no spaces').split(',')\n",
    "user_shot = tuple(map(int, user_shot))\n",
    "user_firing_mechanism(user_shot, enemy_fleet, enemy_table)"
   ]
  },
  {
   "cell_type": "code",
   "execution_count": 37,
   "metadata": {},
   "outputs": [],
   "source": [
    "#putting input inside function and repeating when there is a hit \n",
    "def user_firing_mechanism(fleet, target_map):\n",
    "\n",
    "    hit = True\n",
    "\n",
    "    while hit == True:\n",
    "        \n",
    "        hit = False #reset flow if hit \n",
    "        position = input('Write longitude and latitude separated by comma, no spaces: ').split(',')\n",
    "        position = tuple(map(int, position))\n",
    "\n",
    "        for ship in fleet:\n",
    "                \n",
    "                if position in ship:\n",
    "                    print('Direct hit!')\n",
    "                    ship.remove(position)\n",
    "                    target_map[position] = 'X'\n",
    "                    print(target_map)\n",
    "\n",
    "                    if len(ship) == 0:\n",
    "                        print('Enemy ship destroyed!')\n",
    "                    \n",
    "                    hit = True #hit detected so allow loop to continue\n",
    "                    break #hit detected so no need to iterate through other ships. restart while loop, since hit==True\n",
    "                    \n",
    "        if hit == False: #if hit is still false after the loop through all ships, then it is a miss. \n",
    "            print('Miss')\n",
    "            target_map[position] = '0'\n",
    "            print(target_map)\n",
    "            return False \n",
    "                    "
   ]
  },
  {
   "cell_type": "code",
   "execution_count": null,
   "metadata": {},
   "outputs": [],
   "source": [
    "user_firing_mechanism(enemy_fleet, enemy_table)"
   ]
  },
  {
   "cell_type": "code",
   "execution_count": 43,
   "metadata": {},
   "outputs": [],
   "source": [
    "# creating a similar mechanism for the machine, which autogenerates shot coordinates, as opposed to a user input\n",
    "\n",
    "def adversary_firing_mechanism(fleet, target_map):\n",
    "\n",
    "    hit = True\n",
    "\n",
    "    while hit == True:\n",
    "        \n",
    "        hit = False #reset flow if hit \n",
    "        position = (random.randint(0,9), random.randint(0,9))\n",
    "\n",
    "        for ship in fleet:\n",
    "                \n",
    "                if position in ship:\n",
    "                    print('Direct hit!')\n",
    "                    ship.remove(position)\n",
    "                    target_map[position] = 'X'\n",
    "                    print(target_map)\n",
    "\n",
    "                    if len(ship) == 0:\n",
    "                        print('Enemy ship destroyed!')\n",
    "                    \n",
    "                    hit = True #hit detected so allow loop to continue\n",
    "                    break #hit detected so no need to iterate through other ships. restart while loop, since hit==True\n",
    "                    \n",
    "        if hit == False: #if hit is still false after the loop through all ships, then it is a miss. \n",
    "            print('Miss')\n",
    "            target_map[position] = '0'\n",
    "            print(target_map)\n",
    "            return False "
   ]
  },
  {
   "cell_type": "code",
   "execution_count": 64,
   "metadata": {},
   "outputs": [
    {
     "name": "stdout",
     "output_type": "stream",
     "text": [
      "Direct hit!\n",
      "[['·' '·' '0' '0' '·' '0' '·' '·' '·' '·']\n",
      " ['0' '0' '·' '·' '·' '·' '0' '·' '·' '0']\n",
      " ['·' '·' '·' '·' '·' '·' '·' '·' '·' '·']\n",
      " ['·' '·' '·' '·' '·' '·' '·' '·' '·' '·']\n",
      " ['·' '·' '·' '·' '·' '·' '0' '0' '·' '·']\n",
      " ['·' '·' '·' 'X' '·' '·' '·' '·' '·' '·']\n",
      " ['·' '0' '·' '·' '·' '0' '·' '·' '0' '·']\n",
      " ['0' '·' '·' '·' '0' '·' '·' '·' '0' '0']\n",
      " ['·' '·' '·' '0' '·' '·' '·' '·' '·' '·']\n",
      " ['·' '·' '·' '·' '·' '·' '·' '·' '0' '·']]\n",
      "Miss\n",
      "[['·' '·' '0' '0' '·' '0' '·' '·' '·' '·']\n",
      " ['0' '0' '·' '·' '·' '·' '0' '·' '·' '0']\n",
      " ['·' '·' '·' '·' '·' '·' '·' '·' '·' '·']\n",
      " ['·' '·' '·' '·' '·' '·' '·' '·' '·' '·']\n",
      " ['·' '·' '·' '·' '·' '·' '0' '0' '·' '·']\n",
      " ['·' '·' '·' 'X' '·' '·' '·' '·' '·' '·']\n",
      " ['·' '0' '·' '·' '·' '0' '·' '·' '0' '·']\n",
      " ['0' '·' '·' '·' '0' '·' '·' '0' '0' '0']\n",
      " ['·' '·' '·' '0' '·' '·' '·' '·' '·' '·']\n",
      " ['·' '·' '·' '·' '·' '·' '·' '·' '0' '·']]\n"
     ]
    },
    {
     "data": {
      "text/plain": [
       "False"
      ]
     },
     "execution_count": 64,
     "metadata": {},
     "output_type": "execute_result"
    }
   ],
   "source": [
    "adversary_firing_mechanism(user_fleet_test, user_table2_test)"
   ]
  }
 ],
 "metadata": {
  "kernelspec": {
   "display_name": "base",
   "language": "python",
   "name": "python3"
  },
  "language_info": {
   "codemirror_mode": {
    "name": "ipython",
    "version": 3
   },
   "file_extension": ".py",
   "mimetype": "text/x-python",
   "name": "python",
   "nbconvert_exporter": "python",
   "pygments_lexer": "ipython3",
   "version": "3.12.4"
  }
 },
 "nbformat": 4,
 "nbformat_minor": 2
}
